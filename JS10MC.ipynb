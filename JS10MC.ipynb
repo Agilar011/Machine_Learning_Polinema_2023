{
  "nbformat": 4,
  "nbformat_minor": 0,
  "metadata": {
    "colab": {
      "provenance": [],
      "gpuType": "T4"
    },
    "kernelspec": {
      "name": "python3",
      "display_name": "Python 3"
    },
    "language_info": {
      "name": "python"
    },
    "accelerator": "GPU"
  },
  "cells": [
    {
      "cell_type": "markdown",
      "metadata": {
        "id": "view-in-github"
      },
      "source": [
        "<a href=\"https://colab.research.google.com/github/mandraa/MachineLearning/blob/main/Job_Sheet_10_RNN.ipynb\" target=\"_parent\"><img src=\"https://colab.research.google.com/assets/colab-badge.svg\" alt=\"Open In Colab\"/></a>"
      ]
    },
    {
      "cell_type": "markdown",
      "source": [
        "Nama : Agilar Gumilar\n",
        "\n",
        "Kelas : TI3G\n",
        "\n",
        "NIM  : 2141720106"
      ],
      "metadata": {
        "id": "-bu9vHvh6Oso"
      }
    },
    {
      "cell_type": "markdown",
      "source": [
        "**PRAKTIKUM 1**"
      ],
      "metadata": {
        "id": "DVFRdBspTb7Q"
      }
    },
    {
      "cell_type": "code",
      "execution_count": 1,
      "metadata": {
        "id": "lrSzNNyr54CC"
      },
      "outputs": [],
      "source": [
        "import numpy as np\n",
        "import tensorflow_datasets as tfds\n",
        "import tensorflow as tf\n",
        "\n",
        "tfds.disable_progress_bar()"
      ]
    },
    {
      "cell_type": "code",
      "source": [
        "import matplotlib.pyplot as plt\n",
        "\n",
        "def plot_graphs(history, metric):\n",
        "  plt.plot(history.history[metric])\n",
        "  plt.plot(history.history['val_'+metric], '')\n",
        "  plt.xlabel(\"Epochs\")\n",
        "  plt.ylabel(metric)\n",
        "  plt.legend([metric, 'val_'+metric])"
      ],
      "metadata": {
        "id": "GYBR5sa0B9bj"
      },
      "execution_count": 2,
      "outputs": []
    },
    {
      "cell_type": "markdown",
      "source": [
        "Setup input pipeline"
      ],
      "metadata": {
        "id": "0ti9WYtYEkZ8"
      }
    },
    {
      "cell_type": "code",
      "source": [
        "dataset, info = tfds.load('imdb_reviews', with_info=True,\n",
        "                          as_supervised=True)\n",
        "train_dataset, test_dataset = dataset['train'], dataset['test']\n",
        "\n",
        "train_dataset.element_spec"
      ],
      "metadata": {
        "colab": {
          "base_uri": "https://localhost:8080/"
        },
        "id": "85Imu23KE9DQ",
        "outputId": "177ded5c-9c8a-46af-d1d4-74ae5944c95f"
      },
      "execution_count": 3,
      "outputs": [
        {
          "output_type": "stream",
          "name": "stdout",
          "text": [
            "Downloading and preparing dataset 80.23 MiB (download: 80.23 MiB, generated: Unknown size, total: 80.23 MiB) to /root/tensorflow_datasets/imdb_reviews/plain_text/1.0.0...\n",
            "Dataset imdb_reviews downloaded and prepared to /root/tensorflow_datasets/imdb_reviews/plain_text/1.0.0. Subsequent calls will reuse this data.\n"
          ]
        },
        {
          "output_type": "execute_result",
          "data": {
            "text/plain": [
              "(TensorSpec(shape=(), dtype=tf.string, name=None),\n",
              " TensorSpec(shape=(), dtype=tf.int64, name=None))"
            ]
          },
          "metadata": {},
          "execution_count": 3
        }
      ]
    },
    {
      "cell_type": "markdown",
      "source": [
        "Awalnya ini mengembalikan dataset (teks, pasangan label)"
      ],
      "metadata": {
        "id": "j_eYeX0AKFrZ"
      }
    },
    {
      "cell_type": "code",
      "source": [
        "for example, label in train_dataset.take(1):\n",
        "  print('text: ', example.numpy())\n",
        "  print('label: ', label.numpy())"
      ],
      "metadata": {
        "colab": {
          "base_uri": "https://localhost:8080/"
        },
        "id": "pMIsYabHKHKf",
        "outputId": "cf5dbf4b-a33a-4231-9e2e-09e1e9c214c0"
      },
      "execution_count": 4,
      "outputs": [
        {
          "output_type": "stream",
          "name": "stdout",
          "text": [
            "text:  b\"This was an absolutely terrible movie. Don't be lured in by Christopher Walken or Michael Ironside. Both are great actors, but this must simply be their worst role in history. Even their great acting could not redeem this movie's ridiculous storyline. This movie is an early nineties US propaganda piece. The most pathetic scenes were those when the Columbian rebels were making their cases for revolutions. Maria Conchita Alonso appeared phony, and her pseudo-love affair with Walken was nothing but a pathetic emotional plug in a movie that was devoid of any real meaning. I am disappointed that there are movies like this, ruining actor's like Christopher Walken's good name. I could barely sit through it.\"\n",
            "label:  0\n"
          ]
        }
      ]
    },
    {
      "cell_type": "markdown",
      "source": [
        "Berikutnya acak data untuk pelatihan dan membuat kumpulan pasangan (teks, label) ini"
      ],
      "metadata": {
        "id": "EOE9O5G0KNHy"
      }
    },
    {
      "cell_type": "code",
      "source": [
        "BUFFER_SIZE = 10000\n",
        "BATCH_SIZE = 64\n",
        "\n",
        "train_dataset = train_dataset.shuffle(BUFFER_SIZE).batch(BATCH_SIZE).prefetch(tf.data.AUTOTUNE)\n",
        "test_dataset = test_dataset.batch(BATCH_SIZE).prefetch(tf.data.AUTOTUNE)\n",
        "\n",
        "for example, label in train_dataset.take(1):\n",
        "  print('texts: ', example.numpy()[:3])\n",
        "  print()\n",
        "  print('labels: ', label.numpy()[:3])\n"
      ],
      "metadata": {
        "colab": {
          "base_uri": "https://localhost:8080/"
        },
        "id": "sTmDfmwuKN0p",
        "outputId": "e235180f-f560-4c00-cd0f-662cffb3639f"
      },
      "execution_count": 5,
      "outputs": [
        {
          "output_type": "stream",
          "name": "stdout",
          "text": [
            "texts:  [b\"This is the only full length feature film about the world of bridge. I found the first 10 minutes a bit slow, but after that, the movie is absolutely perfect in describing professional bridge players and how they go about earning a living. <br /><br />Some of the scenes are very funny. I don't think that a non-bridge player would get the charm of this movie. <br /><br />Some of the dresses are really beautiful, pity the movie is in black and white - I can only imagine what they would look like in colour. The way the media are portrayed is absolutely hilarious. There is no way on earth bridge will ever be like that. <br /><br />Watch it as soon as you can, and tell your friends about it.\"\n",
            " b'This, the finest achievement from Georg Wilhelm Pabst\\'s Social Realism period is based upon a tragedy in early 1906 that claimed the lives of nearly 1100 French miners as a coal dust explosion deep in mines at Courrieres in northern France took place after a fire had smouldered for three weeks, eventually releasing deadly pit gas that brought about the fatalities. Estimable designer Erno Metzner creates stark sets that simulate the tragedy, providing a perception of reality, augmented by matchless sound editing, with the only music being produced by integral orchestras during the beginning and ending portions of a work for which aural effects possess equal importance with the eminent director\\'s fascinating visual compositions. Pabst\\'s manner of \"invisible editing\" that segues action from shot to shot through movements of players proves to be smoothly integrated within this landmark film that also showcases sublime cinematography utilizing cameras mounted upon vehicles, enabling the director to shift amid scenes without having a necessity of cutting. Although the work\\'s cardinal theme relates to Socialist dogma, the unforgettable power of this film is held in its details, born of Pabst\\'s nonpareil skill at weaving numerous plot lines into a cinema tapestry that stirs one to admiration for German rescue squads of whom their Fatherland is greatly proud while no less despairing of disastrous losses to the families of French victims; certainly, a seminal triumph fully as stimulating today to a cineaste as it was at the time of its first release.'\n",
            " b'this is one amazing movie!!!!! you have to realize that chinese folklore is complicated and philosophical. there are always stories behind stories. i myself did not understand everything but knowing chinese folklore (i studied them in school)it is very complicated. you just have to take what it gives you.....ENJOY THE MOVIE AND ENJOY THE RIDE....HOORAY!!!!']\n",
            "\n",
            "labels:  [1 1 1]\n"
          ]
        }
      ]
    },
    {
      "cell_type": "markdown",
      "source": [
        "Buat Teks Encoder"
      ],
      "metadata": {
        "id": "EwqnjBrcKZlL"
      }
    },
    {
      "cell_type": "code",
      "source": [
        "VOCAB_SIZE = 1000\n",
        "encoder = tf.keras.layers.TextVectorization(\n",
        "    max_tokens=VOCAB_SIZE)\n",
        "encoder.adapt(train_dataset.map(lambda text, label: text))"
      ],
      "metadata": {
        "id": "QuHRjtXoKaNL"
      },
      "execution_count": 6,
      "outputs": []
    },
    {
      "cell_type": "code",
      "source": [
        "vocab=np.array(encoder.get_vocabulary())\n",
        "vocab[:20]"
      ],
      "metadata": {
        "colab": {
          "base_uri": "https://localhost:8080/"
        },
        "id": "coAsyNtkLI28",
        "outputId": "76a17d75-1017-4c87-d0db-aa6705e895ee"
      },
      "execution_count": 7,
      "outputs": [
        {
          "output_type": "execute_result",
          "data": {
            "text/plain": [
              "array(['', '[UNK]', 'the', 'and', 'a', 'of', 'to', 'is', 'in', 'it', 'i',\n",
              "       'this', 'that', 'br', 'was', 'as', 'for', 'with', 'movie', 'but'],\n",
              "      dtype='<U14')"
            ]
          },
          "metadata": {},
          "execution_count": 7
        }
      ]
    },
    {
      "cell_type": "code",
      "source": [
        "encoded_example=encoder(example)[:3].numpy()\n",
        "encoded_example"
      ],
      "metadata": {
        "colab": {
          "base_uri": "https://localhost:8080/"
        },
        "id": "h7_yEKniLYur",
        "outputId": "22ed9bf6-3b4c-45cd-df97-8cb0e74544d1"
      },
      "execution_count": 8,
      "outputs": [
        {
          "output_type": "execute_result",
          "data": {
            "text/plain": [
              "array([[11,  7,  2, ...,  0,  0,  0],\n",
              "       [11,  2,  1, ...,  0,  0,  0],\n",
              "       [11,  7, 29, ...,  0,  0,  0]])"
            ]
          },
          "metadata": {},
          "execution_count": 8
        }
      ]
    },
    {
      "cell_type": "code",
      "source": [
        "for n in range(3):\n",
        "  print(\"Original: \", example[n].numpy())\n",
        "  print(\"Round-trip: \", \" \".join(vocab[encoded_example[n]]))\n",
        "  print()"
      ],
      "metadata": {
        "colab": {
          "base_uri": "https://localhost:8080/"
        },
        "id": "tJyxA7CWLf7H",
        "outputId": "4d76d55e-b436-4948-ef9d-0c74ad539e84"
      },
      "execution_count": 9,
      "outputs": [
        {
          "output_type": "stream",
          "name": "stdout",
          "text": [
            "Original:  b\"This is the only full length feature film about the world of bridge. I found the first 10 minutes a bit slow, but after that, the movie is absolutely perfect in describing professional bridge players and how they go about earning a living. <br /><br />Some of the scenes are very funny. I don't think that a non-bridge player would get the charm of this movie. <br /><br />Some of the dresses are really beautiful, pity the movie is in black and white - I can only imagine what they would look like in colour. The way the media are portrayed is absolutely hilarious. There is no way on earth bridge will ever be like that. <br /><br />Watch it as soon as you can, and tell your friends about it.\"\n",
            "Round-trip:  this is the only full [UNK] feature film about the world of [UNK] i found the first 10 minutes a bit slow but after that the movie is absolutely perfect in [UNK] [UNK] [UNK] [UNK] and how they go about [UNK] a living br br some of the scenes are very funny i dont think that a [UNK] [UNK] would get the [UNK] of this movie br br some of the [UNK] are really beautiful [UNK] the movie is in black and white i can only imagine what they would look like in [UNK] the way the [UNK] are portrayed is absolutely hilarious there is no way on earth [UNK] will ever be like that br br watch it as soon as you can and tell your friends about it                                                                                                                                                                                                                                                                                                                                                                                                                                                                                                                                                                                                                                                                                                                                                                                                                                                                             \n",
            "\n",
            "Original:  b'This, the finest achievement from Georg Wilhelm Pabst\\'s Social Realism period is based upon a tragedy in early 1906 that claimed the lives of nearly 1100 French miners as a coal dust explosion deep in mines at Courrieres in northern France took place after a fire had smouldered for three weeks, eventually releasing deadly pit gas that brought about the fatalities. Estimable designer Erno Metzner creates stark sets that simulate the tragedy, providing a perception of reality, augmented by matchless sound editing, with the only music being produced by integral orchestras during the beginning and ending portions of a work for which aural effects possess equal importance with the eminent director\\'s fascinating visual compositions. Pabst\\'s manner of \"invisible editing\" that segues action from shot to shot through movements of players proves to be smoothly integrated within this landmark film that also showcases sublime cinematography utilizing cameras mounted upon vehicles, enabling the director to shift amid scenes without having a necessity of cutting. Although the work\\'s cardinal theme relates to Socialist dogma, the unforgettable power of this film is held in its details, born of Pabst\\'s nonpareil skill at weaving numerous plot lines into a cinema tapestry that stirs one to admiration for German rescue squads of whom their Fatherland is greatly proud while no less despairing of disastrous losses to the families of French victims; certainly, a seminal triumph fully as stimulating today to a cineaste as it was at the time of its first release.'\n",
            "Round-trip:  this the [UNK] [UNK] from [UNK] [UNK] [UNK] [UNK] [UNK] period is based upon a [UNK] in early [UNK] that [UNK] the lives of nearly [UNK] french [UNK] as a [UNK] [UNK] [UNK] deep in [UNK] at [UNK] in [UNK] [UNK] took place after a fire had [UNK] for three [UNK] eventually [UNK] [UNK] [UNK] [UNK] that brought about the [UNK] [UNK] [UNK] [UNK] [UNK] [UNK] [UNK] sets that [UNK] the [UNK] [UNK] a [UNK] of reality [UNK] by [UNK] sound editing with the only music being [UNK] by [UNK] [UNK] during the beginning and ending [UNK] of a work for which [UNK] effects [UNK] [UNK] [UNK] with the [UNK] directors [UNK] [UNK] [UNK] [UNK] [UNK] of [UNK] editing that [UNK] action from shot to shot through [UNK] of [UNK] [UNK] to be [UNK] [UNK] within this [UNK] film that also [UNK] [UNK] cinematography [UNK] [UNK] [UNK] upon [UNK] [UNK] the director to [UNK] [UNK] scenes without having a [UNK] of [UNK] although the works [UNK] theme [UNK] to [UNK] [UNK] the [UNK] power of this film is [UNK] in its [UNK] [UNK] of [UNK] [UNK] [UNK] at [UNK] [UNK] plot lines into a cinema [UNK] that [UNK] one to [UNK] for [UNK] [UNK] [UNK] of whom their [UNK] is [UNK] [UNK] while no less [UNK] of [UNK] [UNK] to the [UNK] of french [UNK] certainly a [UNK] [UNK] [UNK] as [UNK] today to a [UNK] as it was at the time of its first release                                                                                                                                                                                                                                                                                                                                                                                                                                                                                                                                                                                                                                                                                                                                                         \n",
            "\n",
            "Original:  b'this is one amazing movie!!!!! you have to realize that chinese folklore is complicated and philosophical. there are always stories behind stories. i myself did not understand everything but knowing chinese folklore (i studied them in school)it is very complicated. you just have to take what it gives you.....ENJOY THE MOVIE AND ENJOY THE RIDE....HOORAY!!!!'\n",
            "Round-trip:  this is one amazing movie you have to realize that [UNK] [UNK] is [UNK] and [UNK] there are always stories behind stories i myself did not understand everything but [UNK] [UNK] [UNK] i [UNK] them in [UNK] is very [UNK] you just have to take what it gives [UNK] the movie and enjoy the [UNK]                                                                                                                                                                                                                                                                                                                                                                                                                                                                                                                                                                                                                                                                                                                                                                                                                                                                                                                                                        \n",
            "\n"
          ]
        }
      ]
    },
    {
      "cell_type": "markdown",
      "source": [
        "Buat Model"
      ],
      "metadata": {
        "id": "gu2HHHv4LjnG"
      }
    },
    {
      "cell_type": "code",
      "source": [
        "model = tf.keras.Sequential([\n",
        "    encoder,\n",
        "    tf.keras.layers.Embedding(\n",
        "        input_dim=len(encoder.get_vocabulary()),\n",
        "        output_dim=64,\n",
        "        # Use masking to handle the variable sequence lengths\n",
        "        mask_zero=True),\n",
        "    tf.keras.layers.Bidirectional(tf.keras.layers.LSTM(64)),\n",
        "    tf.keras.layers.Dense(64, activation='relu'),\n",
        "    tf.keras.layers.Dense(1)\n",
        "])"
      ],
      "metadata": {
        "id": "KEbbcFRhLlU1"
      },
      "execution_count": 10,
      "outputs": []
    },
    {
      "cell_type": "code",
      "source": [
        "print([layer.supports_masking for layer in model.layers])"
      ],
      "metadata": {
        "colab": {
          "base_uri": "https://localhost:8080/"
        },
        "id": "k_FyFLU1LqcE",
        "outputId": "e9a75ecb-6802-47c7-a1ee-5831f9346712"
      },
      "execution_count": 11,
      "outputs": [
        {
          "output_type": "stream",
          "name": "stdout",
          "text": [
            "[False, True, True, True, True]\n"
          ]
        }
      ]
    },
    {
      "cell_type": "code",
      "source": [
        "# predict on a sample text without padding.\n",
        "\n",
        "sample_text = ('The movie was cool. The animation and the graphics '\n",
        "               'were out of this world. I would recommend this movie.')\n",
        "predictions = model.predict(np.array([sample_text]))\n",
        "print(predictions[0])"
      ],
      "metadata": {
        "colab": {
          "base_uri": "https://localhost:8080/"
        },
        "id": "_Dl753mwLzoE",
        "outputId": "840275c8-6f64-45e6-ec71-1ab97d17f5e3"
      },
      "execution_count": 12,
      "outputs": [
        {
          "output_type": "stream",
          "name": "stdout",
          "text": [
            "1/1 [==============================] - 5s 5s/step\n",
            "[-0.01930406]\n"
          ]
        }
      ]
    },
    {
      "cell_type": "code",
      "source": [
        "# predict on a sample text with padding\n",
        "\n",
        "padding = \"the \" * 2000\n",
        "predictions = model.predict(np.array([sample_text, padding]))\n",
        "print(predictions[0])"
      ],
      "metadata": {
        "colab": {
          "base_uri": "https://localhost:8080/"
        },
        "id": "g3NNH95gL6Wy",
        "outputId": "2a03185a-b1dc-4277-c4a4-b03fa391dc61"
      },
      "execution_count": 13,
      "outputs": [
        {
          "output_type": "stream",
          "name": "stdout",
          "text": [
            "1/1 [==============================] - 0s 84ms/step\n",
            "[-0.01930406]\n"
          ]
        }
      ]
    },
    {
      "cell_type": "code",
      "source": [
        "model.compile(loss=tf.keras.losses.BinaryCrossentropy(from_logits=True),\n",
        "              optimizer=tf.keras.optimizers.Adam(1e-4),\n",
        "              metrics=['accuracy'])"
      ],
      "metadata": {
        "id": "9BLE_r_jL9lI"
      },
      "execution_count": 14,
      "outputs": []
    },
    {
      "cell_type": "markdown",
      "source": [
        "Train Model"
      ],
      "metadata": {
        "id": "ausikbiEL_Rs"
      }
    },
    {
      "cell_type": "code",
      "source": [
        "history = model.fit(train_dataset, epochs=10,\n",
        "                    validation_data=test_dataset,\n",
        "                    validation_steps=30)"
      ],
      "metadata": {
        "colab": {
          "base_uri": "https://localhost:8080/"
        },
        "id": "TCoIR9-yMBRF",
        "outputId": "d5591517-cf11-41e9-881f-88c5765cd89a"
      },
      "execution_count": 15,
      "outputs": [
        {
          "output_type": "stream",
          "name": "stdout",
          "text": [
            "Epoch 1/10\n",
            "391/391 [==============================] - 54s 111ms/step - loss: 0.6255 - accuracy: 0.5825 - val_loss: 0.4574 - val_accuracy: 0.7589\n",
            "Epoch 2/10\n",
            "391/391 [==============================] - 27s 68ms/step - loss: 0.3855 - accuracy: 0.8239 - val_loss: 0.3614 - val_accuracy: 0.8484\n",
            "Epoch 3/10\n",
            "391/391 [==============================] - 26s 65ms/step - loss: 0.3367 - accuracy: 0.8523 - val_loss: 0.3447 - val_accuracy: 0.8385\n",
            "Epoch 4/10\n",
            "391/391 [==============================] - 25s 64ms/step - loss: 0.3207 - accuracy: 0.8624 - val_loss: 0.3363 - val_accuracy: 0.8380\n",
            "Epoch 5/10\n",
            "391/391 [==============================] - 24s 62ms/step - loss: 0.3136 - accuracy: 0.8641 - val_loss: 0.3447 - val_accuracy: 0.8266\n",
            "Epoch 6/10\n",
            "391/391 [==============================] - 25s 63ms/step - loss: 0.3098 - accuracy: 0.8667 - val_loss: 0.3233 - val_accuracy: 0.8578\n",
            "Epoch 7/10\n",
            "391/391 [==============================] - 25s 63ms/step - loss: 0.3066 - accuracy: 0.8679 - val_loss: 0.3253 - val_accuracy: 0.8594\n",
            "Epoch 8/10\n",
            "391/391 [==============================] - 25s 64ms/step - loss: 0.3036 - accuracy: 0.8696 - val_loss: 0.3290 - val_accuracy: 0.8589\n",
            "Epoch 9/10\n",
            "391/391 [==============================] - 25s 63ms/step - loss: 0.3054 - accuracy: 0.8691 - val_loss: 0.3236 - val_accuracy: 0.8526\n",
            "Epoch 10/10\n",
            "391/391 [==============================] - 25s 64ms/step - loss: 0.2999 - accuracy: 0.8721 - val_loss: 0.3201 - val_accuracy: 0.8609\n"
          ]
        }
      ]
    },
    {
      "cell_type": "code",
      "source": [
        "test_loss, test_acc = model.evaluate(test_dataset)\n",
        "\n",
        "print('Test Loss:', test_loss)\n",
        "print('Test Accuracy:', test_acc)"
      ],
      "metadata": {
        "colab": {
          "base_uri": "https://localhost:8080/"
        },
        "id": "s6dgwIJ5O8yg",
        "outputId": "ecfbf86c-0a4a-4a29-e18f-3d325ef04513"
      },
      "execution_count": 16,
      "outputs": [
        {
          "output_type": "stream",
          "name": "stdout",
          "text": [
            "391/391 [==============================] - 12s 30ms/step - loss: 0.3168 - accuracy: 0.8616\n",
            "Test Loss: 0.31680282950401306\n",
            "Test Accuracy: 0.8616399765014648\n"
          ]
        }
      ]
    },
    {
      "cell_type": "code",
      "source": [
        "plt.figure(figsize=(16, 8))\n",
        "plt.subplot(1, 2, 1)\n",
        "plot_graphs(history, 'accuracy')\n",
        "plt.ylim(None, 1)\n",
        "plt.subplot(1, 2, 2)\n",
        "plot_graphs(history, 'loss')\n",
        "plt.ylim(0, None)"
      ],
      "metadata": {
        "colab": {
          "base_uri": "https://localhost:8080/",
          "height": 719
        },
        "id": "XC-2kmGmPUc8",
        "outputId": "8e4beb9d-78bd-4c6f-f29e-ea5d0d568d75"
      },
      "execution_count": 17,
      "outputs": [
        {
          "output_type": "execute_result",
          "data": {
            "text/plain": [
              "(0.0, 0.6417414829134941)"
            ]
          },
          "metadata": {},
          "execution_count": 17
        },
        {
          "output_type": "display_data",
          "data": {
            "text/plain": [
              "<Figure size 1600x800 with 2 Axes>"
            ],
            "image/png": "[encoded data removed]"
          },
          "metadata": {}
        }
      ]
    },
    {
      "cell_type": "code",
      "source": [
        "sample_text = ('The movie was cool. The animation and the graphics '\n",
        "                'were out of this world. I would recommend this movie.')\n",
        "predictions = model.predict(np.array([sample_text]))"
      ],
      "metadata": {
        "colab": {
          "base_uri": "https://localhost:8080/"
        },
        "id": "uwF6yxQkPlrN",
        "outputId": "2bff7986-c3f1-44a0-e0a1-42dddc49299a"
      },
      "execution_count": 18,
      "outputs": [
        {
          "output_type": "stream",
          "name": "stdout",
          "text": [
            "1/1 [==============================] - 2s 2s/step\n"
          ]
        }
      ]
    },
    {
      "cell_type": "markdown",
      "source": [
        "Stack two or more LSTM layers"
      ],
      "metadata": {
        "id": "AurA_6OTP0zr"
      }
    },
    {
      "cell_type": "code",
      "source": [
        "model = tf.keras.Sequential([\n",
        "    encoder,\n",
        "    tf.keras.layers.Embedding(len(encoder.get_vocabulary()), 64, mask_zero=True),\n",
        "    tf.keras.layers.Bidirectional(tf.keras.layers.LSTM(64, return_sequences=True)),\n",
        "    tf.keras.layers.Bidirectional(tf.keras.layers.LSTM(32)),\n",
        "    tf.keras.layers.Dense(64, activation='relu'),\n",
        "    tf.keras.layers.Dropout(0.5),\n",
        "    tf.keras.layers.Dense(1)\n",
        "])"
      ],
      "metadata": {
        "id": "a6ATVBqrP1hF"
      },
      "execution_count": 19,
      "outputs": []
    },
    {
      "cell_type": "code",
      "source": [
        "model.compile(loss=tf.keras.losses.BinaryCrossentropy(from_logits=True),\n",
        "              optimizer=tf.keras.optimizers.Adam(1e-4),\n",
        "              metrics=['accuracy'])"
      ],
      "metadata": {
        "id": "N4q9RFoIQKWi"
      },
      "execution_count": 20,
      "outputs": []
    },
    {
      "cell_type": "code",
      "source": [
        "history = model.fit(train_dataset, epochs=10,\n",
        "                    validation_data=test_dataset,\n",
        "                    validation_steps=30)"
      ],
      "metadata": {
        "colab": {
          "base_uri": "https://localhost:8080/"
        },
        "id": "CwYV3hxZQSCy",
        "outputId": "a70ac93a-757d-451d-873e-ee01176fad71"
      },
      "execution_count": 21,
      "outputs": [
        {
          "output_type": "stream",
          "name": "stdout",
          "text": [
            "Epoch 1/10\n",
            "391/391 [==============================] - 76s 150ms/step - loss: 0.6127 - accuracy: 0.6083 - val_loss: 0.4217 - val_accuracy: 0.8167\n",
            "Epoch 2/10\n",
            "391/391 [==============================] - 48s 123ms/step - loss: 0.3829 - accuracy: 0.8345 - val_loss: 0.3487 - val_accuracy: 0.8458\n",
            "Epoch 3/10\n",
            "391/391 [==============================] - 46s 117ms/step - loss: 0.3435 - accuracy: 0.8553 - val_loss: 0.3380 - val_accuracy: 0.8568\n",
            "Epoch 4/10\n",
            "391/391 [==============================] - 46s 118ms/step - loss: 0.3241 - accuracy: 0.8621 - val_loss: 0.3277 - val_accuracy: 0.8479\n",
            "Epoch 5/10\n",
            "391/391 [==============================] - 46s 118ms/step - loss: 0.3162 - accuracy: 0.8668 - val_loss: 0.3224 - val_accuracy: 0.8536\n",
            "Epoch 6/10\n",
            "391/391 [==============================] - 46s 118ms/step - loss: 0.3085 - accuracy: 0.8693 - val_loss: 0.3224 - val_accuracy: 0.8500\n",
            "Epoch 7/10\n",
            "391/391 [==============================] - 45s 115ms/step - loss: 0.3067 - accuracy: 0.8697 - val_loss: 0.3165 - val_accuracy: 0.8599\n",
            "Epoch 8/10\n",
            "391/391 [==============================] - 45s 115ms/step - loss: 0.3011 - accuracy: 0.8717 - val_loss: 0.3289 - val_accuracy: 0.8609\n",
            "Epoch 9/10\n",
            "391/391 [==============================] - 46s 118ms/step - loss: 0.2994 - accuracy: 0.8751 - val_loss: 0.3172 - val_accuracy: 0.8531\n",
            "Epoch 10/10\n",
            "391/391 [==============================] - 48s 121ms/step - loss: 0.2978 - accuracy: 0.8727 - val_loss: 0.3174 - val_accuracy: 0.8464\n"
          ]
        }
      ]
    },
    {
      "cell_type": "code",
      "source": [
        "test_loss, test_acc = model.evaluate(test_dataset)\n",
        "\n",
        "print('Test Loss:', test_loss)\n",
        "print('Test Accuracy:', test_acc)"
      ],
      "metadata": {
        "colab": {
          "base_uri": "https://localhost:8080/"
        },
        "id": "xmL47tgZTHk-",
        "outputId": "d5ae89ce-fc47-4a76-d908-8adfba2d3f46"
      },
      "execution_count": 22,
      "outputs": [
        {
          "output_type": "stream",
          "name": "stdout",
          "text": [
            "391/391 [==============================] - 19s 49ms/step - loss: 0.3150 - accuracy: 0.8508\n",
            "Test Loss: 0.31498461961746216\n",
            "Test Accuracy: 0.8507999777793884\n"
          ]
        }
      ]
    },
    {
      "cell_type": "code",
      "source": [
        "# predict on a sample text without padding.\n",
        "\n",
        "sample_text = ('The movie was not good. The animation and the graphics '\n",
        "                'were terrible. I would not recommend this movie.')\n",
        "predictions = model.predict(np.array([sample_text]))\n",
        "print(predictions)"
      ],
      "metadata": {
        "colab": {
          "base_uri": "https://localhost:8080/"
        },
        "id": "03QMryi1TPED",
        "outputId": "97251dbe-9726-4ec0-daf9-81590a7912f2"
      },
      "execution_count": 23,
      "outputs": [
        {
          "output_type": "stream",
          "name": "stdout",
          "text": [
            "1/1 [==============================] - 6s 6s/step\n",
            "[[-2.0695598]]\n"
          ]
        }
      ]
    },
    {
      "cell_type": "code",
      "source": [
        "plt.figure(figsize=(16, 6))\n",
        "plt.subplot(1, 2, 1)\n",
        "plot_graphs(history, 'accuracy')\n",
        "plt.subplot(1, 2, 2)\n",
        "plot_graphs(history, 'loss')"
      ],
      "metadata": {
        "colab": {
          "base_uri": "https://localhost:8080/",
          "height": 542
        },
        "id": "24cBjmrGTWAB",
        "outputId": "e338d2e8-cfdb-4594-da95-5e5e6a30f6f7"
      },
      "execution_count": 24,
      "outputs": [
        {
          "output_type": "display_data",
          "data": {
            "text/plain": [
              "<Figure size 1600x600 with 2 Axes>"
            ],
            "image/png": "[encoded data removed]"
          },
          "metadata": {}
        }
      ]
    },
    {
      "cell_type": "markdown",
      "source": [
        "**PRAKTIKUM 2**"
      ],
      "metadata": {
        "id": "gy2KAUsBTk2c"
      }
    },
    {
      "cell_type": "code",
      "source": [
        "#Import TensorFlow\n",
        "\n",
        "import tensorflow as tf\n",
        "import numpy as np\n",
        "import os\n",
        "import time"
      ],
      "metadata": {
        "id": "19wv4iiETnj3"
      },
      "execution_count": 25,
      "outputs": []
    },
    {
      "cell_type": "code",
      "source": [
        "#Download Dataset Shakespeare\n",
        "\n",
        "path_to_file = tf.keras.utils.get_file('shakespeare.txt', 'https://storage.googleapis.com/download.tensorflow.org/data/shakespeare.txt')"
      ],
      "metadata": {
        "colab": {
          "base_uri": "https://localhost:8080/"
        },
        "id": "m1cTDI2LTxSf",
        "outputId": "59bb58e1-faf4-4bee-e922-35fa09a9927f"
      },
      "execution_count": 26,
      "outputs": [
        {
          "output_type": "stream",
          "name": "stdout",
          "text": [
            "Downloading data from https://storage.googleapis.com/download.tensorflow.org/data/shakespeare.txt\n",
            "1115394/1115394 [==============================] - 0s 0us/step\n"
          ]
        }
      ]
    },
    {
      "cell_type": "code",
      "source": [
        "# Read, then decode for py2 compat.\n",
        "text = open(path_to_file, 'rb').read().decode(encoding='utf-8')\n",
        "# length of text is the number of characters in it\n",
        "print(f'Length of text: {len(text)} characters')"
      ],
      "metadata": {
        "colab": {
          "base_uri": "https://localhost:8080/"
        },
        "id": "kWiCX2PzT9wG",
        "outputId": "d906e094-510e-48b6-81a4-606468b90d89"
      },
      "execution_count": 27,
      "outputs": [
        {
          "output_type": "stream",
          "name": "stdout",
          "text": [
            "Length of text: 1115394 characters\n"
          ]
        }
      ]
    },
    {
      "cell_type": "code",
      "source": [
        "# Take a look at the first 250 characters in text\n",
        "print(text[:250])"
      ],
      "metadata": {
        "colab": {
          "base_uri": "https://localhost:8080/"
        },
        "id": "JcCDIRB-UAk7",
        "outputId": "d6a22b6a-ff55-4fea-a328-19affaf796ac"
      },
      "execution_count": 28,
      "outputs": [
        {
          "output_type": "stream",
          "name": "stdout",
          "text": [
            "First Citizen:\n",
            "Before we proceed any further, hear me speak.\n",
            "\n",
            "All:\n",
            "Speak, speak.\n",
            "\n",
            "First Citizen:\n",
            "You are all resolved rather to die than to famish?\n",
            "\n",
            "All:\n",
            "Resolved. resolved.\n",
            "\n",
            "First Citizen:\n",
            "First, you know Caius Marcius is chief enemy to the people.\n",
            "\n"
          ]
        }
      ]
    },
    {
      "cell_type": "code",
      "source": [
        "# The unique characters in the file\n",
        "vocab = sorted(set(text))\n",
        "print(f'{len(vocab)} unique characters')"
      ],
      "metadata": {
        "colab": {
          "base_uri": "https://localhost:8080/"
        },
        "id": "ayV_lU_UUE4U",
        "outputId": "5ecab249-c892-4015-effc-e8d6a63cd156"
      },
      "execution_count": 29,
      "outputs": [
        {
          "output_type": "stream",
          "name": "stdout",
          "text": [
            "65 unique characters\n"
          ]
        }
      ]
    },
    {
      "cell_type": "markdown",
      "source": [
        "Olah Teks"
      ],
      "metadata": {
        "id": "J1SNZACLUK4q"
      }
    },
    {
      "cell_type": "code",
      "source": [
        "example_texts = ['abcdefg', 'xyz']\n",
        "chars = tf.strings.unicode_split(example_texts, input_encoding='UTF-8')\n",
        "chars"
      ],
      "metadata": {
        "colab": {
          "base_uri": "https://localhost:8080/"
        },
        "id": "PRasDogNULfp",
        "outputId": "3200e797-31dd-429a-fcdc-3b4cd79cf2e7"
      },
      "execution_count": 30,
      "outputs": [
        {
          "output_type": "execute_result",
          "data": {
            "text/plain": [
              "<tf.RaggedTensor [[b'a', b'b', b'c', b'd', b'e', b'f', b'g'], [b'x', b'y', b'z']]>"
            ]
          },
          "metadata": {},
          "execution_count": 30
        }
      ]
    },
    {
      "cell_type": "code",
      "source": [
        "ids_from_chars = tf.keras.layers.StringLookup(\n",
        "    vocabulary=list(vocab), mask_token=None)"
      ],
      "metadata": {
        "id": "IkPq2iAGUZb0"
      },
      "execution_count": 31,
      "outputs": []
    },
    {
      "cell_type": "code",
      "source": [
        "ids = ids_from_chars(chars)\n",
        "ids"
      ],
      "metadata": {
        "colab": {
          "base_uri": "https://localhost:8080/"
        },
        "id": "HVbgEaxjUlGb",
        "outputId": "4bd44e32-3da8-42f3-c714-fc1d9a3817e8"
      },
      "execution_count": 32,
      "outputs": [
        {
          "output_type": "execute_result",
          "data": {
            "text/plain": [
              "<tf.RaggedTensor [[40, 41, 42, 43, 44, 45, 46], [63, 64, 65]]>"
            ]
          },
          "metadata": {},
          "execution_count": 32
        }
      ]
    },
    {
      "cell_type": "code",
      "source": [
        "chars_from_ids = tf.keras.layers.StringLookup(\n",
        "    vocabulary=ids_from_chars.get_vocabulary(), invert=True, mask_token=None)"
      ],
      "metadata": {
        "id": "B7VyQ2AvUosu"
      },
      "execution_count": 33,
      "outputs": []
    },
    {
      "cell_type": "code",
      "source": [
        "chars = chars_from_ids(ids)\n",
        "chars"
      ],
      "metadata": {
        "colab": {
          "base_uri": "https://localhost:8080/"
        },
        "id": "hFdfjAeKUrMv",
        "outputId": "6ac23b6a-80ff-48a2-9d7c-758ad7f10c5f"
      },
      "execution_count": 34,
      "outputs": [
        {
          "output_type": "execute_result",
          "data": {
            "text/plain": [
              "<tf.RaggedTensor [[b'a', b'b', b'c', b'd', b'e', b'f', b'g'], [b'x', b'y', b'z']]>"
            ]
          },
          "metadata": {},
          "execution_count": 34
        }
      ]
    },
    {
      "cell_type": "code",
      "source": [
        "tf.strings.reduce_join(chars, axis=-1).numpy()"
      ],
      "metadata": {
        "colab": {
          "base_uri": "https://localhost:8080/"
        },
        "id": "7skd8GLmUuwK",
        "outputId": "e0ae14c7-7b07-406d-9d3b-e689d1bfaa3a"
      },
      "execution_count": 35,
      "outputs": [
        {
          "output_type": "execute_result",
          "data": {
            "text/plain": [
              "array([b'abcdefg', b'xyz'], dtype=object)"
            ]
          },
          "metadata": {},
          "execution_count": 35
        }
      ]
    },
    {
      "cell_type": "code",
      "source": [
        "def text_from_ids(ids):\n",
        "  return tf.strings.reduce_join(chars_from_ids(ids), axis=-1)"
      ],
      "metadata": {
        "id": "GcXZI8TIU0qz"
      },
      "execution_count": 36,
      "outputs": []
    },
    {
      "cell_type": "markdown",
      "source": [
        "Prediksi"
      ],
      "metadata": {
        "id": "ci1_to9bVA3q"
      }
    },
    {
      "cell_type": "code",
      "source": [
        "all_ids = ids_from_chars(tf.strings.unicode_split(text, 'UTF-8'))\n",
        "all_ids"
      ],
      "metadata": {
        "colab": {
          "base_uri": "https://localhost:8080/"
        },
        "id": "hHGArySrVBZi",
        "outputId": "ff222212-74ff-476c-9ca5-91c2b6939472"
      },
      "execution_count": 37,
      "outputs": [
        {
          "output_type": "execute_result",
          "data": {
            "text/plain": [
              "<tf.Tensor: shape=(1115394,), dtype=int64, numpy=array([19, 48, 57, ..., 46,  9,  1])>"
            ]
          },
          "metadata": {},
          "execution_count": 37
        }
      ]
    },
    {
      "cell_type": "code",
      "source": [
        "ids_dataset = tf.data.Dataset.from_tensor_slices(all_ids)"
      ],
      "metadata": {
        "id": "vWeFaeWpVHzU"
      },
      "execution_count": 38,
      "outputs": []
    },
    {
      "cell_type": "code",
      "source": [
        "for ids in ids_dataset.take(10):\n",
        "  print(chars_from_ids(ids).numpy().decode('utf-8'))"
      ],
      "metadata": {
        "colab": {
          "base_uri": "https://localhost:8080/"
        },
        "id": "LyBiUevRVMWs",
        "outputId": "e7a26041-83ca-4679-8e7f-8b405fcc6ada"
      },
      "execution_count": 39,
      "outputs": [
        {
          "output_type": "stream",
          "name": "stdout",
          "text": [
            "F\n",
            "i\n",
            "r\n",
            "s\n",
            "t\n",
            " \n",
            "C\n",
            "i\n",
            "t\n",
            "i\n"
          ]
        }
      ]
    },
    {
      "cell_type": "code",
      "source": [
        "seq_length = 100"
      ],
      "metadata": {
        "id": "eLuDLfMyVVQe"
      },
      "execution_count": 40,
      "outputs": []
    },
    {
      "cell_type": "code",
      "source": [
        "sequences = ids_dataset.batch(seq_length+1, drop_remainder=True)\n",
        "\n",
        "for seq in sequences.take(1):\n",
        "  print(chars_from_ids(seq))"
      ],
      "metadata": {
        "colab": {
          "base_uri": "https://localhost:8080/"
        },
        "id": "mnZojfUJVZ7E",
        "outputId": "631b1d4b-4fa4-4871-b36c-6eb7e44b8c5d"
      },
      "execution_count": 41,
      "outputs": [
        {
          "output_type": "stream",
          "name": "stdout",
          "text": [
            "tf.Tensor(\n",
            "[b'F' b'i' b'r' b's' b't' b' ' b'C' b'i' b't' b'i' b'z' b'e' b'n' b':'\n",
            " b'\\n' b'B' b'e' b'f' b'o' b'r' b'e' b' ' b'w' b'e' b' ' b'p' b'r' b'o'\n",
            " b'c' b'e' b'e' b'd' b' ' b'a' b'n' b'y' b' ' b'f' b'u' b'r' b't' b'h'\n",
            " b'e' b'r' b',' b' ' b'h' b'e' b'a' b'r' b' ' b'm' b'e' b' ' b's' b'p'\n",
            " b'e' b'a' b'k' b'.' b'\\n' b'\\n' b'A' b'l' b'l' b':' b'\\n' b'S' b'p' b'e'\n",
            " b'a' b'k' b',' b' ' b's' b'p' b'e' b'a' b'k' b'.' b'\\n' b'\\n' b'F' b'i'\n",
            " b'r' b's' b't' b' ' b'C' b'i' b't' b'i' b'z' b'e' b'n' b':' b'\\n' b'Y'\n",
            " b'o' b'u' b' '], shape=(101,), dtype=string)\n"
          ]
        }
      ]
    },
    {
      "cell_type": "code",
      "source": [
        "for seq in sequences.take(5):\n",
        "  print(text_from_ids(seq).numpy())"
      ],
      "metadata": {
        "colab": {
          "base_uri": "https://localhost:8080/"
        },
        "id": "bMm-ANpJVdnd",
        "outputId": "af3f9740-01ab-4014-fc13-6b5543f194ec"
      },
      "execution_count": 42,
      "outputs": [
        {
          "output_type": "stream",
          "name": "stdout",
          "text": [
            "b'First Citizen:\\nBefore we proceed any further, hear me speak.\\n\\nAll:\\nSpeak, speak.\\n\\nFirst Citizen:\\nYou '\n",
            "b'are all resolved rather to die than to famish?\\n\\nAll:\\nResolved. resolved.\\n\\nFirst Citizen:\\nFirst, you k'\n",
            "b\"now Caius Marcius is chief enemy to the people.\\n\\nAll:\\nWe know't, we know't.\\n\\nFirst Citizen:\\nLet us ki\"\n",
            "b\"ll him, and we'll have corn at our own price.\\nIs't a verdict?\\n\\nAll:\\nNo more talking on't; let it be d\"\n",
            "b'one: away, away!\\n\\nSecond Citizen:\\nOne word, good citizens.\\n\\nFirst Citizen:\\nWe are accounted poor citi'\n"
          ]
        }
      ]
    },
    {
      "cell_type": "code",
      "source": [
        "def split_input_target(sequence):\n",
        "  input_text = sequence[:-1]\n",
        "  target_text = sequence[1:]\n",
        "  return input_text, target_text"
      ],
      "metadata": {
        "id": "rCOXgzBFVkv8"
      },
      "execution_count": 43,
      "outputs": []
    },
    {
      "cell_type": "code",
      "source": [
        "split_input_target(list(\"Tensorflow\"))"
      ],
      "metadata": {
        "colab": {
          "base_uri": "https://localhost:8080/"
        },
        "id": "JkxE1dIMVyRV",
        "outputId": "022db434-68e4-478f-9f22-1d43ff278aab"
      },
      "execution_count": 44,
      "outputs": [
        {
          "output_type": "execute_result",
          "data": {
            "text/plain": [
              "(['T', 'e', 'n', 's', 'o', 'r', 'f', 'l', 'o'],\n",
              " ['e', 'n', 's', 'o', 'r', 'f', 'l', 'o', 'w'])"
            ]
          },
          "metadata": {},
          "execution_count": 44
        }
      ]
    },
    {
      "cell_type": "code",
      "source": [
        "dataset = sequences.map(split_input_target)"
      ],
      "metadata": {
        "id": "rSoTgWGyV0xR"
      },
      "execution_count": 45,
      "outputs": []
    },
    {
      "cell_type": "code",
      "source": [
        "for input_example, target_example in dataset.take(1):\n",
        "  print(\"Input :\", text_from_ids(input_example).numpy())\n",
        "  print(\"Target:\", text_from_ids(target_example).numpy())"
      ],
      "metadata": {
        "colab": {
          "base_uri": "https://localhost:8080/"
        },
        "id": "2o9BbrSiV41w",
        "outputId": "912dfca5-cf8d-49f4-9dc3-5865848f36b0"
      },
      "execution_count": 46,
      "outputs": [
        {
          "output_type": "stream",
          "name": "stdout",
          "text": [
            "Input : b'First Citizen:\\nBefore we proceed any further, hear me speak.\\n\\nAll:\\nSpeak, speak.\\n\\nFirst Citizen:\\nYou'\n",
            "Target: b'irst Citizen:\\nBefore we proceed any further, hear me speak.\\n\\nAll:\\nSpeak, speak.\\n\\nFirst Citizen:\\nYou '\n"
          ]
        }
      ]
    },
    {
      "cell_type": "code",
      "source": [
        "# Batch size\n",
        "BATCH_SIZE = 64\n",
        "\n",
        "# Buffer size to shuffle the dataset\n",
        "# (TF data is designed to work with possibly infinite sequences,\n",
        "# so it doesn't attempt to shuffle the entire sequence in memory. Instead,\n",
        "# it maintains a buffer in which it shuffles elements).\n",
        "BUFFER_SIZE = 10000\n",
        "\n",
        "dataset = (\n",
        "    dataset\n",
        "    .shuffle(BUFFER_SIZE)\n",
        "    .batch(BATCH_SIZE, drop_remainder=True)\n",
        "    .prefetch(tf.data.experimental.AUTOTUNE))\n",
        "\n",
        "dataset"
      ],
      "metadata": {
        "colab": {
          "base_uri": "https://localhost:8080/"
        },
        "id": "MDtrUI7XWEJc",
        "outputId": "18e46957-cd2b-4379-e9ee-74dc4219d792"
      },
      "execution_count": 47,
      "outputs": [
        {
          "output_type": "execute_result",
          "data": {
            "text/plain": [
              "<_PrefetchDataset element_spec=(TensorSpec(shape=(64, 100), dtype=tf.int64, name=None), TensorSpec(shape=(64, 100), dtype=tf.int64, name=None))>"
            ]
          },
          "metadata": {},
          "execution_count": 47
        }
      ]
    },
    {
      "cell_type": "markdown",
      "source": [
        "Buat Model"
      ],
      "metadata": {
        "id": "GD-v8n-qWIgb"
      }
    },
    {
      "cell_type": "code",
      "source": [
        "# Length of the vocabulary in StringLookup Layer\n",
        "vocab_size = len(ids_from_chars.get_vocabulary())\n",
        "\n",
        "# The embedding dimension\n",
        "embedding_dim = 256\n",
        "\n",
        "# Number of RNN units\n",
        "rnn_units = 1024"
      ],
      "metadata": {
        "id": "XtHJ1W20WKqw"
      },
      "execution_count": 48,
      "outputs": []
    },
    {
      "cell_type": "code",
      "source": [
        "class MyModel(tf.keras.Model):\n",
        "  def __init__(self, vocab_size, embedding_dim, rnn_units):\n",
        "    super().__init__(self)\n",
        "    self.embedding = tf.keras.layers.Embedding(vocab_size, embedding_dim)\n",
        "    self.gru = tf.keras.layers.GRU(rnn_units,\n",
        "                                   return_sequences=True,\n",
        "                                   return_state=True)\n",
        "    self.dense = tf.keras.layers.Dense(vocab_size)\n",
        "\n",
        "  def call(self, inputs, states=None, return_state=False, training=False):\n",
        "    x = inputs\n",
        "    x = self.embedding(x, training=training)\n",
        "    if states is None:\n",
        "      states = self.gru.get_initial_state(x)\n",
        "    x, states = self.gru(x, initial_state=states, training=training)\n",
        "    x = self.dense(x, training=training)\n",
        "\n",
        "    if return_state:\n",
        "      return x, states\n",
        "    else:\n",
        "      return x"
      ],
      "metadata": {
        "id": "q5P0VwJwWNQ-"
      },
      "execution_count": 49,
      "outputs": []
    },
    {
      "cell_type": "code",
      "source": [
        "model = MyModel(\n",
        "    vocab_size=vocab_size,\n",
        "    embedding_dim=embedding_dim,\n",
        "    rnn_units=rnn_units)"
      ],
      "metadata": {
        "id": "4EqnTWQpWPC4"
      },
      "execution_count": 50,
      "outputs": []
    },
    {
      "cell_type": "markdown",
      "source": [
        "Uji Model"
      ],
      "metadata": {
        "id": "J751WO5QWQjy"
      }
    },
    {
      "cell_type": "code",
      "source": [
        "for input_example_batch, target_example_batch in dataset.take(1):\n",
        "    example_batch_predictions = model(input_example_batch)\n",
        "    print(example_batch_predictions.shape, \"# (batch_size, sequence_length, vocab_size)\")"
      ],
      "metadata": {
        "colab": {
          "base_uri": "https://localhost:8080/"
        },
        "id": "XryfA4tjWSDg",
        "outputId": "a1b98487-4979-4fc9-9196-f68340d4bf94"
      },
      "execution_count": 51,
      "outputs": [
        {
          "output_type": "stream",
          "name": "stdout",
          "text": [
            "(64, 100, 66) # (batch_size, sequence_length, vocab_size)\n"
          ]
        }
      ]
    },
    {
      "cell_type": "code",
      "source": [
        "model.summary()"
      ],
      "metadata": {
        "colab": {
          "base_uri": "https://localhost:8080/"
        },
        "id": "SwXXDrS9WWWG",
        "outputId": "caa40d4e-24a0-447d-d97d-d7ea7508b2f8"
      },
      "execution_count": 52,
      "outputs": [
        {
          "output_type": "stream",
          "name": "stdout",
          "text": [
            "Model: \"my_model\"\n",
            "_________________________________________________________________\n",
            " Layer (type)                Output Shape              Param #   \n",
            "=================================================================\n",
            " embedding_2 (Embedding)     multiple                  16896     \n",
            "                                                                 \n",
            " gru (GRU)                   multiple                  3938304   \n",
            "                                                                 \n",
            " dense_4 (Dense)             multiple                  67650     \n",
            "                                                                 \n",
            "=================================================================\n",
            "Total params: 4022850 (15.35 MB)\n",
            "Trainable params: 4022850 (15.35 MB)\n",
            "Non-trainable params: 0 (0.00 Byte)\n",
            "_________________________________________________________________\n"
          ]
        }
      ]
    },
    {
      "cell_type": "code",
      "source": [
        "sampled_indices = tf.random.categorical(example_batch_predictions[0], num_samples=1)\n",
        "sampled_indices = tf.squeeze(sampled_indices, axis=-1).numpy()"
      ],
      "metadata": {
        "id": "UxtXDVbsWZmN"
      },
      "execution_count": 53,
      "outputs": []
    },
    {
      "cell_type": "code",
      "source": [
        "sampled_indices"
      ],
      "metadata": {
        "colab": {
          "base_uri": "https://localhost:8080/"
        },
        "id": "omvrLx_6WvkB",
        "outputId": "c8a1570e-d0e2-4ae6-b45f-6f1d5c9a0082"
      },
      "execution_count": 54,
      "outputs": [
        {
          "output_type": "execute_result",
          "data": {
            "text/plain": [
              "array([27, 62, 58, 21, 29, 64,  7, 43, 14, 34, 15, 48, 40, 24, 44, 13,  9,\n",
              "       40, 41, 53, 51,  1, 11, 36, 62, 52, 53, 39, 22,  1, 37, 39, 21, 55,\n",
              "        8,  9, 35, 44, 23, 16, 58, 21,  3, 43, 20, 23, 26,  9, 47,  8, 21,\n",
              "       11, 44, 39, 21, 20, 31, 32, 56, 29, 60, 60,  4, 24, 32,  6, 52, 34,\n",
              "        7, 42, 25, 32, 46, 22, 63,  3, 58, 60, 26, 47, 56,  1, 23,  4, 22,\n",
              "       17, 18, 12, 41, 63, 36, 19, 52, 35, 47, 38, 53, 45, 19, 21])"
            ]
          },
          "metadata": {},
          "execution_count": 54
        }
      ]
    },
    {
      "cell_type": "code",
      "source": [
        "print(\"Input:\\n\", text_from_ids(input_example_batch[0]).numpy())\n",
        "print()\n",
        "print(\"Next Char Predictions:\\n\", text_from_ids(sampled_indices).numpy())"
      ],
      "metadata": {
        "colab": {
          "base_uri": "https://localhost:8080/"
        },
        "id": "tlsHtlx_WxYw",
        "outputId": "98275e4a-7744-4608-a97a-5491142f72e2"
      },
      "execution_count": 55,
      "outputs": [
        {
          "output_type": "stream",
          "name": "stdout",
          "text": [
            "Input:\n",
            " b'ion of his frailty, many\\ndeceiving promises of life; which I by my good\\nleisure have discredited to '\n",
            "\n",
            "Next Char Predictions:\n",
            " b\"NwsHPy,dAUBiaKe?.abnl\\n:WwmnZI\\nXZHp-.VeJCsH!dGJM.h-H:eZHGRSqPuu$KS'mU,cLSgIx!suMhq\\nJ$IDE;bxWFmVhYnfFH\"\n"
          ]
        }
      ]
    },
    {
      "cell_type": "markdown",
      "source": [
        "Train Model"
      ],
      "metadata": {
        "id": "dn8Hiw6vW3yc"
      }
    },
    {
      "cell_type": "code",
      "source": [
        "loss = tf.losses.SparseCategoricalCrossentropy(from_logits=True)"
      ],
      "metadata": {
        "id": "ZY0FK6b-W8I7"
      },
      "execution_count": 56,
      "outputs": []
    },
    {
      "cell_type": "code",
      "source": [
        "example_batch_mean_loss = loss(target_example_batch, example_batch_predictions)\n",
        "print(\"Prediction shape: \", example_batch_predictions.shape, \" # (batch_size, sequence_length, vocab_size)\")\n",
        "print(\"Mean loss:        \", example_batch_mean_loss)"
      ],
      "metadata": {
        "colab": {
          "base_uri": "https://localhost:8080/"
        },
        "id": "LwOA9ePIXBM3",
        "outputId": "c33aa8e0-6fb9-464a-ba30-2efca79fb461"
      },
      "execution_count": 57,
      "outputs": [
        {
          "output_type": "stream",
          "name": "stdout",
          "text": [
            "Prediction shape:  (64, 100, 66)  # (batch_size, sequence_length, vocab_size)\n",
            "Mean loss:         tf.Tensor(4.1895423, shape=(), dtype=float32)\n"
          ]
        }
      ]
    },
    {
      "cell_type": "code",
      "source": [
        "tf.exp(example_batch_mean_loss).numpy()"
      ],
      "metadata": {
        "colab": {
          "base_uri": "https://localhost:8080/"
        },
        "id": "QpBK2UgtXDrj",
        "outputId": "324a0678-cdd7-4045-a1d6-822d9daffcbf"
      },
      "execution_count": 58,
      "outputs": [
        {
          "output_type": "execute_result",
          "data": {
            "text/plain": [
              "65.992584"
            ]
          },
          "metadata": {},
          "execution_count": 58
        }
      ]
    },
    {
      "cell_type": "code",
      "source": [
        "model.compile(optimizer='adam', loss=loss)"
      ],
      "metadata": {
        "id": "scwoFqhGXGBN"
      },
      "execution_count": 59,
      "outputs": []
    },
    {
      "cell_type": "code",
      "source": [
        "# Directory where the checkpoints will be saved\n",
        "checkpoint_dir = './training_checkpoints'\n",
        "# Name of the checkpoint files\n",
        "checkpoint_prefix = os.path.join(checkpoint_dir, \"ckpt_{epoch}\")\n",
        "\n",
        "checkpoint_callback = tf.keras.callbacks.ModelCheckpoint(\n",
        "    filepath=checkpoint_prefix,\n",
        "    save_weights_only=True)"
      ],
      "metadata": {
        "id": "XYMx89UvXOz2"
      },
      "execution_count": 60,
      "outputs": []
    },
    {
      "cell_type": "code",
      "source": [
        "EPOCHS=20"
      ],
      "metadata": {
        "id": "OT20QGTWXR1V"
      },
      "execution_count": 61,
      "outputs": []
    },
    {
      "cell_type": "code",
      "source": [
        "history = model.fit(dataset, epochs=EPOCHS, callbacks=[checkpoint_callback])"
      ],
      "metadata": {
        "colab": {
          "base_uri": "https://localhost:8080/"
        },
        "id": "UYpYm5AFXVWf",
        "outputId": "f50cb5fb-6d8f-4c98-838f-9dd1d87c63d8"
      },
      "execution_count": 62,
      "outputs": [
        {
          "output_type": "stream",
          "name": "stdout",
          "text": [
            "Epoch 1/20\n",
            "172/172 [==============================] - 14s 59ms/step - loss: 2.7317\n",
            "Epoch 2/20\n",
            "172/172 [==============================] - 11s 56ms/step - loss: 1.9941\n",
            "Epoch 3/20\n",
            "172/172 [==============================] - 11s 56ms/step - loss: 1.7206\n",
            "Epoch 4/20\n",
            "172/172 [==============================] - 12s 57ms/step - loss: 1.5607\n",
            "Epoch 5/20\n",
            "172/172 [==============================] - 12s 56ms/step - loss: 1.4605\n",
            "Epoch 6/20\n",
            "172/172 [==============================] - 12s 56ms/step - loss: 1.3907\n",
            "Epoch 7/20\n",
            "172/172 [==============================] - 12s 55ms/step - loss: 1.3388\n",
            "Epoch 8/20\n",
            "172/172 [==============================] - 12s 55ms/step - loss: 1.2920\n",
            "Epoch 9/20\n",
            "172/172 [==============================] - 12s 56ms/step - loss: 1.2516\n",
            "Epoch 10/20\n",
            "172/172 [==============================] - 11s 56ms/step - loss: 1.2111\n",
            "Epoch 11/20\n",
            "172/172 [==============================] - 11s 56ms/step - loss: 1.1711\n",
            "Epoch 12/20\n",
            "172/172 [==============================] - 11s 56ms/step - loss: 1.1300\n",
            "Epoch 13/20\n",
            "172/172 [==============================] - 11s 56ms/step - loss: 1.0871\n",
            "Epoch 14/20\n",
            "172/172 [==============================] - 11s 56ms/step - loss: 1.0414\n",
            "Epoch 15/20\n",
            "172/172 [==============================] - 11s 56ms/step - loss: 0.9929\n",
            "Epoch 16/20\n",
            "172/172 [==============================] - 12s 56ms/step - loss: 0.9419\n",
            "Epoch 17/20\n",
            "172/172 [==============================] - 11s 56ms/step - loss: 0.8897\n",
            "Epoch 18/20\n",
            "172/172 [==============================] - 11s 57ms/step - loss: 0.8360\n",
            "Epoch 19/20\n",
            "172/172 [==============================] - 12s 58ms/step - loss: 0.7847\n",
            "Epoch 20/20\n",
            "172/172 [==============================] - 12s 56ms/step - loss: 0.7340\n"
          ]
        }
      ]
    },
    {
      "cell_type": "code",
      "source": [
        "class OneStep(tf.keras.Model):\n",
        "  def __init__(self, model, chars_from_ids, ids_from_chars, temperature=1.0):\n",
        "    super().__init__()\n",
        "    self.temperature = temperature\n",
        "    self.model = model\n",
        "    self.chars_from_ids = chars_from_ids\n",
        "    self.ids_from_chars = ids_from_chars\n",
        "\n",
        "    # Create a mask to prevent \"[UNK]\" from being generated.\n",
        "    skip_ids = self.ids_from_chars(['[UNK]'])[:, None]\n",
        "    sparse_mask = tf.SparseTensor(\n",
        "        # Put a -inf at each bad index.\n",
        "        values=[-float('inf')]*len(skip_ids),\n",
        "        indices=skip_ids,\n",
        "        # Match the shape to the vocabulary\n",
        "        dense_shape=[len(ids_from_chars.get_vocabulary())])\n",
        "    self.prediction_mask = tf.sparse.to_dense(sparse_mask)\n",
        "\n",
        "  @tf.function\n",
        "  def generate_one_step(self, inputs, states=None):\n",
        "    # Convert strings to token IDs.\n",
        "    input_chars = tf.strings.unicode_split(inputs, 'UTF-8')\n",
        "    input_ids = self.ids_from_chars(input_chars).to_tensor()\n",
        "\n",
        "    # Run the model.\n",
        "    # predicted_logits.shape is [batch, char, next_char_logits]\n",
        "    predicted_logits, states = self.model(inputs=input_ids, states=states,\n",
        "                                          return_state=True)\n",
        "    # Only use the last prediction.\n",
        "    predicted_logits = predicted_logits[:, -1, :]\n",
        "    predicted_logits = predicted_logits/self.temperature\n",
        "    # Apply the prediction mask: prevent \"[UNK]\" from being generated.\n",
        "    predicted_logits = predicted_logits + self.prediction_mask\n",
        "\n",
        "    # Sample the output logits to generate token IDs.\n",
        "    predicted_ids = tf.random.categorical(predicted_logits, num_samples=1)\n",
        "    predicted_ids = tf.squeeze(predicted_ids, axis=-1)\n",
        "\n",
        "    # Convert from token ids to characters\n",
        "    predicted_chars = self.chars_from_ids(predicted_ids)\n",
        "\n",
        "    # Return the characters and model state.\n",
        "    return predicted_chars, states"
      ],
      "metadata": {
        "id": "eDPOaHTkY1_Y"
      },
      "execution_count": 63,
      "outputs": []
    },
    {
      "cell_type": "code",
      "source": [
        "one_step_model = OneStep(model, chars_from_ids, ids_from_chars)"
      ],
      "metadata": {
        "id": "SW7OsjfwZGpo"
      },
      "execution_count": 64,
      "outputs": []
    },
    {
      "cell_type": "code",
      "source": [
        "start = time.time()\n",
        "states = None\n",
        "next_char = tf.constant(['ROMEO:'])\n",
        "result = [next_char]\n",
        "\n",
        "for n in range(1000):\n",
        "  next_char, states = one_step_model.generate_one_step(next_char, states=states)\n",
        "  result.append(next_char)\n",
        "\n",
        "result = tf.strings.join(result)\n",
        "end = time.time()\n",
        "print(result[0].numpy().decode('utf-8'), '\\n\\n' + '_'*80)\n",
        "print('\\nRun time:', end - start)"
      ],
      "metadata": {
        "colab": {
          "base_uri": "https://localhost:8080/"
        },
        "id": "BFAZfWywZUGy",
        "outputId": "d8e59511-3fdc-43f8-d9ea-ad4a14656f7c"
      },
      "execution_count": 65,
      "outputs": [
        {
          "output_type": "stream",
          "name": "stdout",
          "text": [
            "ROMEO:\n",
            "Nay, then 'tis just.\n",
            "\n",
            "LUCIO:\n",
            "Jod's valiant Friar John Dorset!\n",
            "\n",
            "HERMIONE:\n",
            "Sir, brave Mercutio's peits,\n",
            "'tis time even that with kind comforts.\n",
            "\n",
            "SICINIUS:\n",
            "Where's a best!\n",
            "\n",
            "COMINIUS:\n",
            "Though that thy king comes well, bold for the mind;\n",
            "For wheels, her life, still'd my profit\n",
            "With pains and me-ishes, weigh Oxford.'\n",
            "\n",
            "KING RICHARD II:\n",
            "Well she longed had before thine fine;\n",
            "For what is this of Bolingbroke'?\n",
            "\n",
            "ALONSO:\n",
            "Prithee, work you on:\n",
            "Take my ancient quarters, fairly strongure!\n",
            "\n",
            "KATHARINA:\n",
            "Here in this coil\n",
            "Savine that. But why commands the crown that are upon the ground.\n",
            "\n",
            "DUKE OF YORK:\n",
            "To me thy night: call'd them: when I have mercued\n",
            "Would harn them to her tears, and show our foes\n",
            "about your brothers, for the holl houses of uncounsel's reason\n",
            "But draw our country to deck on.\n",
            "\n",
            "CAMILLO:\n",
            "Yes, all displees. Good, thou winter\n",
            "To your youthful so? Thus with his mother will not pass. This action I for my count,\n",
            "I was your follight modesting tongue.\n",
            "\n",
            "MARCIUS:\n",
            "Is me your lordship to weal pinecle. \n",
            "\n",
            "________________________________________________________________________________\n",
            "\n",
            "Run time: 3.2642059326171875\n"
          ]
        }
      ]
    },
    {
      "cell_type": "code",
      "source": [
        "start = time.time()\n",
        "states = None\n",
        "next_char = tf.constant(['ROMEO:', 'ROMEO:', 'ROMEO:', 'ROMEO:', 'ROMEO:'])\n",
        "result = [next_char]\n",
        "\n",
        "for n in range(1000):\n",
        "  next_char, states = one_step_model.generate_one_step(next_char, states=states)\n",
        "  result.append(next_char)\n",
        "\n",
        "result = tf.strings.join(result)\n",
        "end = time.time()\n",
        "print(result, '\\n\\n' + '_'*80)\n",
        "print('\\nRun time:', end - start)"
      ],
      "metadata": {
        "colab": {
          "base_uri": "https://localhost:8080/"
        },
        "id": "bydxEDQmZYYG",
        "outputId": "1d200b18-a911-41ee-c97b-f17ec5c4dcb6"
      },
      "execution_count": 66,
      "outputs": [
        {
          "output_type": "stream",
          "name": "stdout",
          "text": [
            "tf.Tensor(\n",
            "[b\"ROMEO:\\nAt little point contradicts!\\n\\nSecond Keeper:\\nFor comfort have I last in vainted bring.\\nThis is a haper footing day nor lack?\\nand and the thought once possess'd with God\\nEsseved themselves, for you to me;\\nAnd witch so my bosom, if orce no less than mine;\\nMy bosom and unpentions and goods,\\nWhich I sea-cle quter's mischance.\\n\\nMERCUTIO:\\nO, he that looks it now so much be he tender.\\n\\nHENRY BOLINGBROKE:\\nGood madam,--by weapon, no remorse!\\n\\nCLEOMENES:\\nWhile I suppose to my service?\\n\\nBIONDELLO:\\nI would have dainted spirit, we must taxe it out, a very little therefore,\\nYou know the cares, for comes what a strange\\nHast thou purposen' the other talks\\nWorthy found. Come, I'll bride whither myself and my best.\\n\\nGREMIO:\\nI know, thou wilt object my studious liege;\\nAnd that to do so soundly in the bissop holy where\\nThey are but diseased o'erpaptable.\\n\\nShepherd:\\nBeseech your honour, I have cross you.\\n\\nDUKE VINCENTIO:\\nTHou darest vengurably accusard? sir,\\nThat bear the heir of prefermin my head\\nAnd cla\"\n",
            " b\"ROMEO:\\nShe hungst me, were who comes here, take away two clear.\\n\\nGREGORY:\\nEvery man mistaking it will graft silkness, put\\nThe old saint should be; although you, say,\\nThat stands upon my brother, 'Vis too long to soon\\nUpon their love and merit words.\\n\\nHASTINGS:\\nGood, sir, a good supposed time: how blesting loos!\\nCan this unhappy babe: the weakness may sure\\nI see no less Than mine eyes,--or a hand,\\nIn prison all beside to Aquit my body\\nTo old Boham I am so: Edward and France.\\n\\nWARWICK:\\nTrue, how she had been as foul in this desperate, live,\\nHis colokned subjects sway to them accounterman:\\nThe virgin vingurous that may bring him for his life.\\n\\nSLY:\\nAm I, since we are gone, behind thou livest,\\nThe dire deputy should amings you without bow.\\n\\nServant:\\nWhat with him? he is all the devil.\\n\\nFirst Conspirator:\\nSir, sweet son:\\nThe rewastions might you do't.\\n\\nFirst Murderer:\\nTake that, thou art thou foalth, this be she, poor man, which the white still\\ncombon with the flinty over-boints, disoberish,\\nWhen\"\n",
            " b\"ROMEO:\\nNo, good madam;--'back, sir? And soon I pass\\nas to the people; for it is a bay\\nwith every state with all falten-hands.\\n\\nNORTHUMBERLARD IV:\\nYou cannot more a shrew, and let us here the envious\\nwill effects of facen and bold.\\n\\nCORIOLANUS:\\nWell, poor magistantine wretch!--\\nYield them nothing: stay with her.\\nNow sway; your honour and full companies\\nI seemer all the comfort on the Duke of York.\\n\\nGREMIO:\\nWhat, master, master, butt, and there, be quiet;\\nThou, rona, leisuless, sister, or of creation cry, 'Jom ox't.\\n\\nTRANIO:\\nIf it were drops, might for ever\\nAnd none of this disvouch are eat.\\nBut what says you, in Scotland's heign; who, his\\nThat is no needs would each owe drop this fine full wind.\\nWhen Hers'ons so great a clam.\\nWhereto we are come.\\n\\nServant:\\nAnon!\\n\\nHASTINGS:\\nWell, let her be you knew from him:\\nHe seems you false against their curses with his\\nhip. Her end o' the public Dido,\\nTo one that kill'd my vault, though mista's,\\nThat Warwick's bodies speck'd of daily; they have vergom to\\n\"\n",
            " b\"ROMEO:\\nWhy, and with that, mother, I will return my exerching be.\\n\\nKING HENRY VI:\\nSwear his, the flock off friends, honourable action\\nTransport blood Banishment was Histoods;\\nWhich, blows it off as tway; for truly in his\\nface.\\n\\nPLORDENE:\\nNone, both. With all my leave spides to\\nresign out, you will add;\\nToo frow upon the gentleman by spent.\\nI have yet betray the people?\\n\\nCLARENCE:\\nArite, disolve, did Trumpet, and her hand-fearing:\\nI will do me.\\n\\nFROTH:\\nAll both your bosom on a sister, but remain\\nAnd never tread now that we may a crownib?\\n\\nHASTINGS:\\nAnd, by my sovereign, now deny my uncle watch.\\n\\nKING RICHARD II:\\nNow, good sir: one word well;\\nThey were traitor, too no hands no healthoughing\\nthan to them, but to mistook her, Angelo:\\nI had rather have comfixted to that: if you will not mock'd aface in her action\\nWithout a score! resisted, mumn! Are you shall\\nfeel an oak! thy son to woo!\\nI would I read the colours in our holy rid,\\nwe were his gentle and unreapoused in the neck.\\n\\nLUCIO:\\nBelike the\"\n",
            " b\"ROMEO:\\nThe field of fortune's moley, with a\\ncrepted soon-whilst he would have ta'en good aushire\\nThan Heirtify of mine own lips.\\n\\nLADY GREY:\\nThe advenun times her dowirh doth a poor\\nAnd sacred his posterity. Let him never\\nDenied their fingers, the gall you there: but this I think,\\nThou marst within my bids to watches,\\nAnd frame of evil did for malice overthrow.\\n\\nHENRY BOLINGBROKE:\\nConfess the kindred of my brother's gigd!\\nPitchers have come to tell me of this!\\nHard, must you so? This did I folly me! Tybalt,\\nThat comeseth happy wives which prevented\\nThe childness and to him that title's office.\\n\\nDUKE OF YORK:\\nHe does not how to use me from it.\\nYou parted with those haved with conestrates.\\nAnd I will pardon him, if that the gentlewoman\\nIs to be seen in your babe, for that the case of heaven,\\nThey call themselves wear themselves\\nAs plaints and friends thou them, to turn themselves,\\nBrought forth an oath; nor then to stay.\\n\\nTRANIO:\\nA' wilt will make an action on that purson thus.\\n\\nKING EDWARD IV\"], shape=(5,), dtype=string) \n",
            "\n",
            "________________________________________________________________________________\n",
            "\n",
            "Run time: 3.7220418453216553\n"
          ]
        }
      ]
    },
    {
      "cell_type": "code",
      "source": [
        "tf.saved_model.save(one_step_model, 'one_step')\n",
        "one_step_reloaded = tf.saved_model.load('one_step')"
      ],
      "metadata": {
        "colab": {
          "base_uri": "https://localhost:8080/"
        },
        "id": "IJjJ3s1lZdIZ",
        "outputId": "f9d922ba-69c1-4f42-c8d9-945ef4b5e611"
      },
      "execution_count": 67,
      "outputs": [
        {
          "output_type": "stream",
          "name": "stderr",
          "text": [
            "WARNING:tensorflow:Skipping full serialization of Keras layer <__main__.OneStep object at 0x7cdb8b21afe0>, because it is not built.\n",
            "WARNING:tensorflow:Model's `__init__()` arguments contain non-serializable objects. Please implement a `get_config()` method in the subclassed Model for proper saving and loading. Defaulting to empty config.\n",
            "WARNING:tensorflow:Model's `__init__()` arguments contain non-serializable objects. Please implement a `get_config()` method in the subclassed Model for proper saving and loading. Defaulting to empty config.\n"
          ]
        }
      ]
    },
    {
      "cell_type": "code",
      "source": [
        "states = None\n",
        "next_char = tf.constant(['ROMEO:'])\n",
        "result = [next_char]\n",
        "\n",
        "for n in range(100):\n",
        "  next_char, states = one_step_reloaded.generate_one_step(next_char, states=states)\n",
        "  result.append(next_char)\n",
        "\n",
        "print(tf.strings.join(result)[0].numpy().decode(\"utf-8\"))"
      ],
      "metadata": {
        "colab": {
          "base_uri": "https://localhost:8080/"
        },
        "id": "oMGdoM3gZhNw",
        "outputId": "e09901f4-4a95-4159-d720-f1b15ecbbd51"
      },
      "execution_count": 68,
      "outputs": [
        {
          "output_type": "stream",
          "name": "stdout",
          "text": [
            "ROMEO: Nay, mother;\n",
            "A man that cive my oath awake in him\n",
            "And plucked both thee for this enemies.\n",
            "No smile \n"
          ]
        }
      ]
    },
    {
      "cell_type": "markdown",
      "source": [
        "**TUGAS**"
      ],
      "metadata": {
        "id": "6xd45mkDZjx6"
      }
    },
    {
      "cell_type": "code",
      "source": [
        "class CustomTraining(MyModel):\n",
        "  @tf.function\n",
        "  def train_step(self, inputs):\n",
        "    inputs, labels = inputs\n",
        "    with tf.GradientTape() as tape:\n",
        "      predictions = self(inputs, training=True)\n",
        "      loss = self.loss(labels, predictions)\n",
        "    grads = tape.gradient(loss, model.trainable_variables)\n",
        "    self.optimizer.apply_gradients(zip(grads, model.trainable_variables))\n",
        "\n",
        "    return {'loss': loss}"
      ],
      "metadata": {
        "id": "I5SY2_SJZqnQ"
      },
      "execution_count": 69,
      "outputs": []
    },
    {
      "cell_type": "code",
      "source": [
        "model = CustomTraining(\n",
        "    vocab_size=len(ids_from_chars.get_vocabulary()),\n",
        "    embedding_dim=embedding_dim,\n",
        "    rnn_units=rnn_units)"
      ],
      "metadata": {
        "id": "o-P62smfaq6k"
      },
      "execution_count": 70,
      "outputs": []
    },
    {
      "cell_type": "code",
      "source": [
        "model.compile(optimizer = tf.keras.optimizers.Adam(),\n",
        "              loss=tf.keras.losses.SparseCategoricalCrossentropy(from_logits=True))"
      ],
      "metadata": {
        "id": "P_UvaNQSavXu"
      },
      "execution_count": 71,
      "outputs": []
    },
    {
      "cell_type": "code",
      "source": [
        "model.fit(dataset, epochs=1)"
      ],
      "metadata": {
        "colab": {
          "base_uri": "https://localhost:8080/"
        },
        "id": "Az-LJDGUa0O5",
        "outputId": "25a8491a-57c6-492c-b331-59171de1b081"
      },
      "execution_count": 72,
      "outputs": [
        {
          "output_type": "stream",
          "name": "stdout",
          "text": [
            "172/172 [==============================] - 14s 57ms/step - loss: 2.6902\n"
          ]
        },
        {
          "output_type": "execute_result",
          "data": {
            "text/plain": [
              "<keras.src.callbacks.History at 0x7cdb90ed9f00>"
            ]
          },
          "metadata": {},
          "execution_count": 72
        }
      ]
    },
    {
      "cell_type": "code",
      "source": [
        "EPOCHS = 10\n",
        "\n",
        "mean = tf.metrics.Mean()\n",
        "\n",
        "for epoch in range(EPOCHS):\n",
        "    start = time.time()\n",
        "\n",
        "    mean.reset_states()\n",
        "    for (batch_n, (inp, target)) in enumerate(dataset):\n",
        "        logs = model.train_step([inp, target])\n",
        "        mean.update_state(logs['loss'])\n",
        "\n",
        "        if batch_n % 50 == 0:\n",
        "            template = f\"Epoch {epoch+1} Batch {batch_n} Loss {logs['loss']:.4f}\"\n",
        "            print(template)\n",
        "\n",
        "    # saving (checkpoint) the model every 5 epochs\n",
        "    if (epoch + 1) % 5 == 0:\n",
        "        model.save_weights(checkpoint_prefix.format(epoch=epoch))\n",
        "\n",
        "    print()\n",
        "    print(f'Epoch {epoch+1} Loss: {mean.result().numpy():.4f}')\n",
        "    print(f'Time taken for 1 epoch {time.time() - start:.2f} sec')\n",
        "    print(\"_\"*80)\n",
        "\n",
        "model.save_weights(checkpoint_prefix.format(epoch=epoch))"
      ],
      "metadata": {
        "colab": {
          "base_uri": "https://localhost:8080/"
        },
        "id": "aDYrMrZTbB_J",
        "outputId": "0846cc6a-f9db-4370-99a4-fc23202aaae9"
      },
      "execution_count": 73,
      "outputs": [
        {
          "output_type": "stream",
          "name": "stdout",
          "text": [
            "Epoch 1 Batch 0 Loss 2.1758\n",
            "Epoch 1 Batch 50 Loss 2.0039\n",
            "Epoch 1 Batch 100 Loss 1.9878\n",
            "Epoch 1 Batch 150 Loss 1.8624\n",
            "\n",
            "Epoch 1 Loss: 1.9744\n",
            "Time taken for 1 epoch 12.43 sec\n",
            "________________________________________________________________________________\n",
            "Epoch 2 Batch 0 Loss 1.8433\n",
            "Epoch 2 Batch 50 Loss 1.7292\n",
            "Epoch 2 Batch 100 Loss 1.6596\n",
            "Epoch 2 Batch 150 Loss 1.6433\n",
            "\n",
            "Epoch 2 Loss: 1.6968\n",
            "Time taken for 1 epoch 11.03 sec\n",
            "________________________________________________________________________________\n",
            "Epoch 3 Batch 0 Loss 1.5978\n",
            "Epoch 3 Batch 50 Loss 1.5350\n",
            "Epoch 3 Batch 100 Loss 1.5055\n",
            "Epoch 3 Batch 150 Loss 1.5427\n",
            "\n",
            "Epoch 3 Loss: 1.5396\n",
            "Time taken for 1 epoch 10.94 sec\n",
            "________________________________________________________________________________\n",
            "Epoch 4 Batch 0 Loss 1.4496\n",
            "Epoch 4 Batch 50 Loss 1.4540\n",
            "Epoch 4 Batch 100 Loss 1.4747\n",
            "Epoch 4 Batch 150 Loss 1.4951\n",
            "\n",
            "Epoch 4 Loss: 1.4446\n",
            "Time taken for 1 epoch 20.47 sec\n",
            "________________________________________________________________________________\n",
            "Epoch 5 Batch 0 Loss 1.3736\n",
            "Epoch 5 Batch 50 Loss 1.3959\n",
            "Epoch 5 Batch 100 Loss 1.3792\n",
            "Epoch 5 Batch 150 Loss 1.3319\n",
            "\n",
            "Epoch 5 Loss: 1.3776\n",
            "Time taken for 1 epoch 10.99 sec\n",
            "________________________________________________________________________________\n",
            "Epoch 6 Batch 0 Loss 1.3158\n",
            "Epoch 6 Batch 50 Loss 1.3342\n",
            "Epoch 6 Batch 100 Loss 1.3124\n",
            "Epoch 6 Batch 150 Loss 1.3404\n",
            "\n",
            "Epoch 6 Loss: 1.3263\n",
            "Time taken for 1 epoch 10.92 sec\n",
            "________________________________________________________________________________\n",
            "Epoch 7 Batch 0 Loss 1.2527\n",
            "Epoch 7 Batch 50 Loss 1.3121\n",
            "Epoch 7 Batch 100 Loss 1.2802\n",
            "Epoch 7 Batch 150 Loss 1.2513\n",
            "\n",
            "Epoch 7 Loss: 1.2816\n",
            "Time taken for 1 epoch 10.88 sec\n",
            "________________________________________________________________________________\n",
            "Epoch 8 Batch 0 Loss 1.2208\n",
            "Epoch 8 Batch 50 Loss 1.2782\n",
            "Epoch 8 Batch 100 Loss 1.2304\n",
            "Epoch 8 Batch 150 Loss 1.2629\n",
            "\n",
            "Epoch 8 Loss: 1.2403\n",
            "Time taken for 1 epoch 20.47 sec\n",
            "________________________________________________________________________________\n",
            "Epoch 9 Batch 0 Loss 1.1885\n",
            "Epoch 9 Batch 50 Loss 1.1853\n",
            "Epoch 9 Batch 100 Loss 1.2326\n",
            "Epoch 9 Batch 150 Loss 1.2487\n",
            "\n",
            "Epoch 9 Loss: 1.2012\n",
            "Time taken for 1 epoch 11.53 sec\n",
            "________________________________________________________________________________\n",
            "Epoch 10 Batch 0 Loss 1.1307\n",
            "Epoch 10 Batch 50 Loss 1.2012\n",
            "Epoch 10 Batch 100 Loss 1.1433\n",
            "Epoch 10 Batch 150 Loss 1.1664\n",
            "\n",
            "Epoch 10 Loss: 1.1612\n",
            "Time taken for 1 epoch 11.07 sec\n",
            "________________________________________________________________________________\n"
          ]
        }
      ]
    },
    {
      "cell_type": "markdown",
      "source": [
        "**Perbedaan**"
      ],
      "metadata": {
        "id": "PjttwmeZgUiX"
      }
    },
    {
      "cell_type": "markdown",
      "source": [
        "Perbedaan utama antara tugas dan praktikum 2 terletak pada train yang digunakan. Praktikum 2 menggunakan train yang lebih umum dan sederhana dengan model.fit, sedangkan kode tuga menggunakan train yang khusus dan kompleks. Dalam pendekatan ini, ada penggunaan metode train_step dalam model turunan yang mengatur train pada tingkat batch. Ini melibatkan perhitungan loss, perhitungan gradien, peningkatan bobot model, dan pemanfaatan tf.metrics.Mean untuk menghitung rata-rata loss selama proses train. Dengan pendekatan ini, terdapat tingkat kontrol yang lebih besar dan fleksibilitas dalam mengatur proses train model."
      ],
      "metadata": {
        "id": "EvT_5iupgZZ6"
      }
    }
  ]
}